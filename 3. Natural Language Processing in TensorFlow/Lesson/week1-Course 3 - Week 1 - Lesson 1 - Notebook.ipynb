{
 "metadata": {
  "language_info": {
   "codemirror_mode": {
    "name": "ipython",
    "version": 3
   },
   "file_extension": ".py",
   "mimetype": "text/x-python",
   "name": "python",
   "nbconvert_exporter": "python",
   "pygments_lexer": "ipython3",
   "version": "3.7.3-final"
  },
  "orig_nbformat": 2,
  "kernelspec": {
   "name": "python_defaultSpec_1598848472500",
   "display_name": "Python 3.7.3 64-bit ('base': conda)"
  }
 },
 "nbformat": 4,
 "nbformat_minor": 2,
 "cells": [
  {
   "cell_type": "code",
   "execution_count": 1,
   "metadata": {
    "tags": []
   },
   "outputs": [
    {
     "output_type": "stream",
     "name": "stdout",
     "text": "{'love': 1, 'my': 2, 'i': 3, 'dog': 4, 'cat': 5, 'you': 6}\n"
    }
   ],
   "source": [
    "\"\"\"\n",
    "Corpus(말뭉치) : 자연어 연구를 위해 특정한 목적을 추출한 집합\n",
    "    ex) \"There is an apple\"\n",
    "\n",
    "Token(토큰) : 문법적으로 더 이상 나눌 수 없는 언어 요소. 즉, 텍스트를 나누는 단위\n",
    "Tokenization(토큰화) : 말뭉치로부터 토큰을 분리하는 작업\n",
    "    ex) \"There is an apple\" -> \"There\", \"is\", \"an\", \"apple\"\n",
    "\"\"\"\n",
    "from tensorflow.keras.preprocessing.text import Tokenizer\n",
    "\n",
    "sentences = [\n",
    "    'i love my dog',\n",
    "    'I, love my cat',\n",
    "    'You love my dog!'\n",
    "]\n",
    "\n",
    "tokenizer = Tokenizer(num_words = 100) # 가장 빈도가 높은 100개 단어만 선택\n",
    "tokenizer.fit_on_texts(sentences) # 단어 인덱스 구축 -> 사전 생성\n",
    "word_index = tokenizer.word_index # 계산된 단어 인덱스를 구함\n",
    "print(word_index)"
   ]
  },
  {
   "cell_type": "code",
   "execution_count": null,
   "metadata": {},
   "outputs": [],
   "source": []
  }
 ]
}