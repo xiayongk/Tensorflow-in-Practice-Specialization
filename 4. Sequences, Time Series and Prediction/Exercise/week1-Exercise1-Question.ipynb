{
 "metadata": {
  "language_info": {
   "codemirror_mode": {
    "name": "ipython",
    "version": 3
   },
   "file_extension": ".py",
   "mimetype": "text/x-python",
   "name": "python",
   "nbconvert_exporter": "python",
   "pygments_lexer": "ipython3",
   "version": 3
  },
  "orig_nbformat": 2
 },
 "nbformat": 4,
 "nbformat_minor": 2,
 "cells": [
  {
   "cell_type": "code",
   "execution_count": null,
   "metadata": {},
   "outputs": [],
   "source": [
    "import tensorflow as tf\n",
    "print(tf.__version__)\n",
    "\n",
    "# EXPECTED OUTPUT\n",
    "# 2.0.0-beta1 (or later)\n"
   ]
  },
  {
   "cell_type": "code",
   "execution_count": null,
   "metadata": {},
   "outputs": [],
   "source": [
    "import numpy as np\n",
    "import matplotlib.pyplot as plt\n",
    "import tensorflow as tf\n",
    "from tensorflow import keras\n",
    "\n",
    "def plot_series(time, series, format=\"-\", start=0, end=None):\n",
    "    plt.plot(time[start:end], series[start:end], format)\n",
    "    plt.xlabel(\"Time\")\n",
    "    plt.ylabel(\"Value\")\n",
    "    plt.grid(True)\n",
    "\n",
    "def trend(time, slope=0):\n",
    "    return slope * time\n",
    "\n",
    "def seasonal_pattern(season_time):\n",
    "    \"\"\"Just an arbitrary pattern, you can change it if you wish\"\"\"\n",
    "    return np.where(season_time < 0.1,\n",
    "                    np.cos(season_time * 7 * np.pi),\n",
    "                    1 / np.exp(5 * season_time))\n",
    "\n",
    "def seasonality(time, period, amplitude=1, phase=0):\n",
    "    \"\"\"Repeats the same pattern at each period\"\"\"\n",
    "    season_time = ((time + phase) % period) / period\n",
    "    return amplitude * seasonal_pattern(season_time)\n",
    "\n",
    "def noise(time, noise_level=1, seed=None):\n",
    "    rnd = np.random.RandomState(seed)\n",
    "    return rnd.randn(len(time)) * noise_level\n",
    "\n",
    "time = np.arange(4 * 365 + 1, dtype=\"float32\")\n",
    "baseline = 10\n",
    "series = trend(time, 0.1)  \n",
    "baseline = 10\n",
    "amplitude = 40\n",
    "slope = 0.01\n",
    "noise_level = 2\n",
    "\n",
    "# Create the series\n",
    "series = baseline + trend(time, slope) + seasonality(time, period=365, amplitude=amplitude)\n",
    "# Update with noise\n",
    "series += noise(time, noise_level, seed=42)\n",
    "\n",
    "plt.figure(figsize=(10, 6))\n",
    "plot_series(time, series)\n",
    "plt.show()\n",
    "\n",
    "# EXPECTED OUTPUT\n",
    "# Chart as in the screencast. First should have 5 distinctive 'peaks'"
   ]
  },
  {
   "cell_type": "code",
   "execution_count": null,
   "metadata": {},
   "outputs": [],
   "source": [
    "split_time = # YOUR CODE HERE\n",
    "time_train = time[:split_time]\n",
    "x_train = series[:split_time]\n",
    "time_valid = time[split_time:]\n",
    "x_valid = series[split_time:]\n",
    "plt.figure(figsize=(10, 6))\n",
    "plot_series(time_train, x_train)\n",
    "plt.show()\n",
    "\n",
    "plt.figure(figsize=(10, 6))\n",
    "plot_series(time_valid, x_valid)\n",
    "plt.show()\n",
    "\n",
    "# EXPECTED OUTPUT\n",
    "# Chart WITH 4 PEAKS between 50 and 65 and 3 troughs between -12 and 0\n",
    "# Chart with 2 Peaks, first at slightly above 60, last at a little more than that, should also have a single trough at about 0"
   ]
  },
  {
   "cell_type": "code",
   "execution_count": null,
   "metadata": {},
   "outputs": [],
   "source": [
    "naive_forecast = series[#YOUR CODE HERE]"
   ]
  },
  {
   "cell_type": "code",
   "execution_count": null,
   "metadata": {},
   "outputs": [],
   "source": [
    "plt.figure(figsize=(10, 6))\n",
    "plot_series(time_valid, x_valid)\n",
    "plot_series(time_valid, naive_forecast)\n",
    "\n",
    "# Expected output: Chart similar to above, but with forecast overlay"
   ]
  },
  {
   "cell_type": "code",
   "execution_count": null,
   "metadata": {},
   "outputs": [],
   "source": [
    "plt.figure(figsize=(10, 6))\n",
    "plot_series(# YOUR CODE HERE)\n",
    "plot_series(# YOUR CODE HERE)\n",
    "\n",
    "# EXPECTED - Chart with X-Axis from 1100-1250 and Y Axes with series value and projections. Projections should be time stepped 1 unit 'after' series"
   ]
  },
  {
   "cell_type": "code",
   "execution_count": null,
   "metadata": {},
   "outputs": [],
   "source": [
    "print(# YOUR CODE HERE)\n",
    "print(# YOUR CODE HERE)\n",
    "# Expected Output\n",
    "# 19.578304\n",
    "# 2.6011968"
   ]
  },
  {
   "cell_type": "code",
   "execution_count": null,
   "metadata": {},
   "outputs": [],
   "source": [
    "def moving_average_forecast(series, window_size):\n",
    "  \"\"\"Forecasts the mean of the last few values.\n",
    "     If window_size=1, then this is equivalent to naive forecast\"\"\"\n",
    "  # YOUR CODE HERE"
   ]
  },
  {
   "cell_type": "code",
   "execution_count": null,
   "metadata": {},
   "outputs": [],
   "source": [
    "moving_avg = moving_average_forecast(# YOUR CODE HERE)[# YOUR CODE HERE]\n",
    "\n",
    "plt.figure(figsize=(10, 6))\n",
    "plot_series(time_valid, x_valid)\n",
    "plot_series(time_valid, moving_avg)\n",
    "    \n",
    "# EXPECTED OUTPUT\n",
    "# CHart with time series from 1100->1450+ on X\n",
    "# Time series plotted\n",
    "# Moving average plotted over it"
   ]
  },
  {
   "cell_type": "code",
   "execution_count": null,
   "metadata": {},
   "outputs": [],
   "source": [
    "print(# YOUR CODE HERE)\n",
    "print(# YOUR CODE HERE)\n",
    "# EXPECTED OUTPUT\n",
    "# 65.786224\n",
    "# 4.3040023"
   ]
  },
  {
   "cell_type": "code",
   "execution_count": null,
   "metadata": {},
   "outputs": [],
   "source": [
    "diff_series = (# YOUR CODE HERE)\n",
    "diff_time = # YOUR CODE HERE\n",
    "\n",
    "plt.figure(figsize=(10, 6))\n",
    "plot_series(diff_time, diff_series)\n",
    "plt.show()\n",
    "    \n",
    "# EXPECETED OUTPUT: CHart with diffs"
   ]
  },
  {
   "cell_type": "code",
   "execution_count": null,
   "metadata": {},
   "outputs": [],
   "source": [
    "diff_moving_avg = # YOUR CODE HERE\n",
    "\n",
    "plt.figure(figsize=(10, 6))\n",
    "plot_series(time_valid, # YOUR CODE HERE)\n",
    "plot_series(time_valid, # YOUR CODE HERE)\n",
    "plt.show()\n",
    "            \n",
    "# Expected output. Diff chart from 1100->1450 +\n",
    "# Overlaid with moving average"
   ]
  },
  {
   "cell_type": "code",
   "execution_count": null,
   "metadata": {},
   "outputs": [],
   "source": [
    "diff_moving_avg_plus_past = # YOUR CODE HERE\n",
    "\n",
    "plt.figure(figsize=(10, 6))\n",
    "plot_series(time_valid, # YOUR CODE HERE)\n",
    "plot_series(time_valid, # YOUR CODE HERE)\n",
    "plt.show()\n",
    "# Expected output: Chart from 1100->1450+ on X. Same chart as earlier for time series, but projection overlaid looks close in value to it"
   ]
  },
  {
   "cell_type": "code",
   "execution_count": null,
   "metadata": {},
   "outputs": [],
   "source": [
    "print(# YOUR CODE HERE)\n",
    "print(# YOUR CODE HERE)\n",
    "# EXPECTED OUTPUT\n",
    "# 8.498155\n",
    "# 2.327179"
   ]
  },
  {
   "cell_type": "code",
   "execution_count": null,
   "metadata": {},
   "outputs": [],
   "source": [
    "diff_moving_avg_plus_smooth_past = # YOUR CODE HERE\n",
    "\n",
    "plt.figure(figsize=(10, 6))\n",
    "plot_series(time_valid, # YOUR CODE HERE)\n",
    "plot_series(time_valid, # YOUR CODE HERE)\n",
    "plt.show()\n",
    "            \n",
    "# EXPECTED OUTPUT:\n",
    "# Similar chart to above, but the overlaid projections are much smoother"
   ]
  },
  {
   "cell_type": "code",
   "execution_count": null,
   "metadata": {},
   "outputs": [],
   "source": [
    "print(# YOUR CODE HERE)\n",
    "print(# YOUR CODE HERE)\n",
    "# EXPECTED OUTPUT\n",
    "# 12.527958\n",
    "# 2.2034433"
   ]
  }
 ]
}