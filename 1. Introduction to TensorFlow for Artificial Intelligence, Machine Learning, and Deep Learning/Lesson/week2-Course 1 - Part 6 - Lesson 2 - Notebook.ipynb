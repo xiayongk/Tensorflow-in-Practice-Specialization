{
 "metadata": {
  "language_info": {
   "codemirror_mode": {
    "name": "ipython",
    "version": 3
   },
   "file_extension": ".py",
   "mimetype": "text/x-python",
   "name": "python",
   "nbconvert_exporter": "python",
   "pygments_lexer": "ipython3",
   "version": "3.8.3-final"
  },
  "orig_nbformat": 2,
  "kernelspec": {
   "name": "python_defaultSpec_1598449172890",
   "display_name": "Python 3.8.3 64-bit ('tf2.0-gpu': conda)"
  }
 },
 "nbformat": 4,
 "nbformat_minor": 2,
 "cells": [
  {
   "cell_type": "code",
   "execution_count": 1,
   "metadata": {
    "tags": []
   },
   "outputs": [
    {
     "output_type": "stream",
     "name": "stdout",
     "text": "Epoch 1/5\n1875/1875 [==============================] - 2s 1ms/step - loss: 0.4962 - accuracy: 0.8243\nEpoch 2/5\n1875/1875 [==============================] - 2s 1ms/step - loss: 0.3765 - accuracy: 0.8647\nEpoch 3/5\n1875/1875 [==============================] - 2s 1ms/step - loss: 0.3378 - accuracy: 0.8771\nEpoch 4/5\n1875/1875 [==============================] - 2s 1ms/step - loss: 0.3120 - accuracy: 0.8860\nEpoch 5/5\n1875/1875 [==============================] - 2s 1ms/step - loss: 0.2952 - accuracy: 0.8898\n313/313 [==============================] - 0s 1ms/step - loss: 0.3518 - accuracy: 0.8770\n"
    }
   ],
   "source": [
    "import tensorflow as tf\n",
    "mnist = tf.keras.datasets.fashion_mnist\n",
    "(training_images, training_labels), (test_images, test_labels) = mnist.load_data()\n",
    "training_images=training_images / 255.0\n",
    "test_images=test_images / 255.0\n",
    "model = tf.keras.models.Sequential([\n",
    "  tf.keras.layers.Flatten(),\n",
    "  tf.keras.layers.Dense(128, activation=tf.nn.relu),\n",
    "  tf.keras.layers.Dense(10, activation=tf.nn.softmax)\n",
    "])\n",
    "model.compile(optimizer='adam', loss='sparse_categorical_crossentropy', metrics=['accuracy'])\n",
    "model.fit(training_images, training_labels, epochs=5)\n",
    "\n",
    "test_loss = model.evaluate(test_images, test_labels)"
   ]
  },
  {
   "cell_type": "code",
   "execution_count": 2,
   "metadata": {
    "tags": []
   },
   "outputs": [
    {
     "output_type": "stream",
     "name": "stdout",
     "text": "2.2.0\nModel: \"sequential_1\"\n_________________________________________________________________\nLayer (type)                 Output Shape              Param #   \n=================================================================\nconv2d (Conv2D)              (None, 26, 26, 64)        640       \n_________________________________________________________________\nmax_pooling2d (MaxPooling2D) (None, 13, 13, 64)        0         \n_________________________________________________________________\nconv2d_1 (Conv2D)            (None, 11, 11, 64)        36928     \n_________________________________________________________________\nmax_pooling2d_1 (MaxPooling2 (None, 5, 5, 64)          0         \n_________________________________________________________________\nflatten_1 (Flatten)          (None, 1600)              0         \n_________________________________________________________________\ndense_2 (Dense)              (None, 128)               204928    \n_________________________________________________________________\ndense_3 (Dense)              (None, 10)                1290      \n=================================================================\nTotal params: 243,786\nTrainable params: 243,786\nNon-trainable params: 0\n_________________________________________________________________\nEpoch 1/5\n1875/1875 [==============================] - 4s 2ms/step - loss: 0.4446 - accuracy: 0.8371\nEpoch 2/5\n1875/1875 [==============================] - 4s 2ms/step - loss: 0.2931 - accuracy: 0.8935\nEpoch 3/5\n1875/1875 [==============================] - 4s 2ms/step - loss: 0.2492 - accuracy: 0.9079\nEpoch 4/5\n1875/1875 [==============================] - 4s 2ms/step - loss: 0.2177 - accuracy: 0.9196\nEpoch 5/5\n1875/1875 [==============================] - 4s 2ms/step - loss: 0.1886 - accuracy: 0.9295\n313/313 [==============================] - 1s 2ms/step - loss: 0.2562 - accuracy: 0.9104\n"
    }
   ],
   "source": [
    "import tensorflow as tf\n",
    "print(tf.__version__)\n",
    "mnist = tf.keras.datasets.fashion_mnist\n",
    "(training_images, training_labels), (test_images, test_labels) = mnist.load_data()\n",
    "training_images=training_images.reshape(60000, 28, 28, 1)\n",
    "training_images=training_images / 255.0\n",
    "test_images = test_images.reshape(10000, 28, 28, 1)\n",
    "test_images=test_images/255.0\n",
    "model = tf.keras.models.Sequential([\n",
    "  tf.keras.layers.Conv2D(64, (3,3), activation='relu', input_shape=(28, 28, 1)),\n",
    "  tf.keras.layers.MaxPooling2D(2, 2),\n",
    "  tf.keras.layers.Conv2D(64, (3,3), activation='relu'),\n",
    "  tf.keras.layers.MaxPooling2D(2,2),\n",
    "  tf.keras.layers.Flatten(),\n",
    "  tf.keras.layers.Dense(128, activation='relu'),\n",
    "  tf.keras.layers.Dense(10, activation='softmax')\n",
    "])\n",
    "model.compile(optimizer='adam', loss='sparse_categorical_crossentropy', metrics=['accuracy'])\n",
    "model.summary()\n",
    "model.fit(training_images, training_labels, epochs=5)\n",
    "test_loss = model.evaluate(test_images, test_labels)\n"
   ]
  },
  {
   "cell_type": "code",
   "execution_count": 3,
   "metadata": {
    "tags": []
   },
   "outputs": [
    {
     "output_type": "stream",
     "name": "stdout",
     "text": "2.2.0\nEpoch 1/10\n1875/1875 [==============================] - 3s 2ms/step - loss: 0.1474 - accuracy: 0.9556\nEpoch 2/10\n1875/1875 [==============================] - 3s 2ms/step - loss: 0.0493 - accuracy: 0.9849\nEpoch 3/10\n1875/1875 [==============================] - 3s 2ms/step - loss: 0.0328 - accuracy: 0.9894\nEpoch 4/10\n1875/1875 [==============================] - 3s 2ms/step - loss: 0.0213 - accuracy: 0.9931\nEpoch 5/10\n1875/1875 [==============================] - 3s 2ms/step - loss: 0.0136 - accuracy: 0.9955\nEpoch 6/10\n1875/1875 [==============================] - 3s 2ms/step - loss: 0.0105 - accuracy: 0.9967\nEpoch 7/10\n1875/1875 [==============================] - 3s 2ms/step - loss: 0.0073 - accuracy: 0.9976\nEpoch 8/10\n1875/1875 [==============================] - 3s 2ms/step - loss: 0.0059 - accuracy: 0.9981\nEpoch 9/10\n1875/1875 [==============================] - 3s 2ms/step - loss: 0.0061 - accuracy: 0.9980\nEpoch 10/10\n1875/1875 [==============================] - 3s 2ms/step - loss: 0.0046 - accuracy: 0.9985\n313/313 [==============================] - 0s 2ms/step - loss: 0.0457 - accuracy: 0.9870\n0.9869999885559082\n"
    }
   ],
   "source": [
    "import tensorflow as tf\n",
    "print(tf.__version__)\n",
    "mnist = tf.keras.datasets.mnist\n",
    "(training_images, training_labels), (test_images, test_labels) = mnist.load_data()\n",
    "training_images=training_images.reshape(60000, 28, 28, 1)\n",
    "training_images=training_images / 255.0\n",
    "test_images = test_images.reshape(10000, 28, 28, 1)\n",
    "test_images=test_images/255.0\n",
    "model = tf.keras.models.Sequential([\n",
    "  tf.keras.layers.Conv2D(32, (3,3), activation='relu', input_shape=(28, 28, 1)),\n",
    "  tf.keras.layers.MaxPooling2D(2, 2),\n",
    "  tf.keras.layers.Flatten(),\n",
    "  tf.keras.layers.Dense(128, activation='relu'),\n",
    "  tf.keras.layers.Dense(10, activation='softmax')\n",
    "])\n",
    "model.compile(optimizer='adam', loss='sparse_categorical_crossentropy', metrics=['accuracy'])\n",
    "model.fit(training_images, training_labels, epochs=10)\n",
    "test_loss, test_acc = model.evaluate(test_images, test_labels)\n",
    "print(test_acc)"
   ]
  },
  {
   "cell_type": "code",
   "execution_count": null,
   "metadata": {},
   "outputs": [],
   "source": []
  }
 ]
}